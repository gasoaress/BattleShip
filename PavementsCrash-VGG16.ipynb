{
  "nbformat": 4,
  "nbformat_minor": 0,
  "metadata": {
    "colab": {
      "provenance": [],
      "authorship_tag": "ABX9TyNsg2S+XiTfzAoUUHRPkJMO",
      "include_colab_link": true
    },
    "kernelspec": {
      "name": "python3",
      "display_name": "Python 3"
    },
    "language_info": {
      "name": "python"
    }
  },
  "cells": [
    {
      "cell_type": "markdown",
      "metadata": {
        "id": "view-in-github",
        "colab_type": "text"
      },
      "source": [
        "<a href=\"https://colab.research.google.com/github/gasoaress/BattleShip/blob/main/PavementsCrash-VGG16.ipynb\" target=\"_parent\"><img src=\"https://colab.research.google.com/assets/colab-badge.svg\" alt=\"Open In Colab\"/></a>"
      ]
    },
    {
      "cell_type": "code",
      "execution_count": null,
      "metadata": {
        "colab": {
          "base_uri": "https://localhost:8080/"
        },
        "id": "wO62tB4G4Zge",
        "outputId": "dc353837-f2a4-444b-8bca-aef2e910763b"
      },
      "outputs": [
        {
          "output_type": "stream",
          "name": "stdout",
          "text": [
            "Found 1078 images belonging to 2 classes.\n",
            "Found 0 images belonging to 2 classes.\n",
            "Model: \"sequential_5\"\n",
            "_________________________________________________________________\n",
            " Layer (type)                Output Shape              Param #   \n",
            "=================================================================\n",
            " vgg16 (Functional)          (None, 7, 7, 512)         14714688  \n",
            "                                                                 \n",
            " flatten_5 (Flatten)         (None, 25088)             0         \n",
            "                                                                 \n",
            " dense_15 (Dense)            (None, 256)               6422784   \n",
            "                                                                 \n",
            " dense_16 (Dense)            (None, 256)               65792     \n",
            "                                                                 \n",
            " dense_17 (Dense)            (None, 2)                 514       \n",
            "                                                                 \n",
            "=================================================================\n",
            "Total params: 21203778 (80.89 MB)\n",
            "Trainable params: 6489090 (24.75 MB)\n",
            "Non-trainable params: 14714688 (56.13 MB)\n",
            "_________________________________________________________________\n",
            "Epoch 1/5\n",
            " 11/100 [==>...........................] - ETA: 25:36 - loss: 0.0261 - accuracy: 0.9858"
          ]
        }
      ],
      "source": [
        "import keras\n",
        "from keras.models import Sequential\n",
        "from keras.layers import Conv2D, MaxPool2D, Flatten, Dense\n",
        "from keras.preprocessing.image import ImageDataGenerator\n",
        "import numpy as np\n",
        "\n",
        "# Preparação dos dados\n",
        "trdata = ImageDataGenerator()\n",
        "traindata = trdata.flow_from_directory(directory='/content/Images/Train', target_size=(224,224))\n",
        "tsdata = ImageDataGenerator()\n",
        "testdata = tsdata.flow_from_directory(directory='/content/Images/Test', target_size=(224,224))\n",
        "\n",
        "# Modelo VGG16\n",
        "VGG = keras.applications.VGG16(input_shape=(224,224,3), include_top=False, weights='imagenet')\n",
        "VGG.trainable = False\n",
        "\n",
        "model = Sequential([\n",
        "    VGG,\n",
        "    Flatten(),\n",
        "    Dense(units=256, activation=\"relu\"),\n",
        "    Dense(units=256, activation=\"relu\"),\n",
        "    Dense(units=2, activation=\"softmax\")\n",
        "])\n",
        "\n",
        "model.compile(optimizer='adam', loss=keras.losses.categorical_crossentropy, metrics=['accuracy'])\n",
        "\n",
        "model.summary()\n",
        "\n",
        "# Treinamento do modelo\n",
        "hist = model.fit(\n",
        "    traindata,\n",
        "    steps_per_epoch=100,\n",
        "    validation_data=testdata,\n",
        "    validation_steps=10,\n",
        "    epochs=5\n",
        ")\n",
        "\n",
        "model.save('vggclf.h5')\n",
        "\n",
        "# Verificar as chaves no histórico do treinamento\n",
        "print(hist.history.keys())\n",
        "\n",
        "# Visualização do treinamento\n",
        "import matplotlib.pyplot as plt\n",
        "\n",
        "plt.plot(hist.history[\"accuracy\"])\n",
        "if \"val_accuracy\" in hist.history:\n",
        "    plt.plot(hist.history[\"val_accuracy\"])\n",
        "plt.plot(hist.history['loss'])\n",
        "if \"val_loss\" in hist.history:\n",
        "    plt.plot(hist.history['val_loss'])\n",
        "\n",
        "plt.title(\"Model Accuracy\")\n",
        "plt.ylabel(\"Accuracy\")\n",
        "plt.xlabel(\"Epoch\")\n",
        "legend_labels = [\"Accuracy\", \"Loss\"]\n",
        "if \"val_accuracy\" in hist.history:\n",
        "    legend_labels.append(\"Validation Accuracy\")\n",
        "if \"val_loss\" in hist.history:\n",
        "    legend_labels.append(\"Validation Loss\")\n",
        "plt.legend(legend_labels)\n",
        "plt.show()\n",
        "\n",
        "# Predição\n",
        "from keras.preprocessing import image\n",
        "img = image.load_img(\"/content/paredeLisa.jpg\", target_size=(224,224))\n",
        "img = np.asarray(img)\n",
        "plt.imshow(img)\n",
        "img = np.expand_dims(img, axis=0)\n",
        "\n",
        "from keras.models import load_model\n",
        "saved_model = load_model(\"vggclf.h5\")\n",
        "output = saved_model.predict(img)\n",
        "if output[0][0] > output[0][1]:\n",
        "    print(\"Sem Rachado\")\n",
        "else:\n",
        "    print(\"Rachado\")\n"
      ]
    }
  ]
}